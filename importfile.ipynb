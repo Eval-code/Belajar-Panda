{
  "nbformat": 4,
  "nbformat_minor": 0,
  "metadata": {
    "colab": {
      "provenance": [],
      "authorship_tag": "ABX9TyMM1zwrcMgA+Zbw8nopfU8h",
      "include_colab_link": true
    },
    "kernelspec": {
      "name": "python3",
      "display_name": "Python 3"
    },
    "language_info": {
      "name": "python"
    }
  },
  "cells": [
    {
      "cell_type": "markdown",
      "metadata": {
        "id": "view-in-github",
        "colab_type": "text"
      },
      "source": [
        "<a href=\"https://colab.research.google.com/github/Eval-code/Belajar-Panda/blob/main/importfile.ipynb\" target=\"_parent\"><img src=\"https://colab.research.google.com/assets/colab-badge.svg\" alt=\"Open In Colab\"/></a>"
      ]
    },
    {
      "cell_type": "code",
      "source": [
        "display(df.describe())\n",
        "#untuk statistik deskriptif"
      ],
      "metadata": {
        "id": "g5E9MCF1_5nq"
      },
      "execution_count": null,
      "outputs": []
    },
    {
      "cell_type": "code",
      "source": [
        "display(df.head())\n",
        "#untuk tampilan baris pertama"
      ],
      "metadata": {
        "id": "nq8qh4Fl_7Rw"
      },
      "execution_count": null,
      "outputs": []
    },
    {
      "cell_type": "code",
      "source": [
        "display(df.info())\n",
        "#ringkasan data frame"
      ],
      "metadata": {
        "id": "boclKbZmPlub"
      },
      "execution_count": null,
      "outputs": []
    },
    {
      "cell_type": "code",
      "source": [
        "from google.colab import files\n",
        "uploaded = files.upload()\n",
        "#untuk mencai file yang ada di komputer kita"
      ],
      "metadata": {
        "id": "fq0_sqHqAxdI"
      },
      "execution_count": null,
      "outputs": []
    },
    {
      "cell_type": "code",
      "source": [
        "#import file excel\n",
        "import pandas as pd\n",
        "df = pd.read_excel('namafilemu.xlsx')"
      ],
      "metadata": {
        "id": "tPVvMTdeA1RP"
      },
      "execution_count": null,
      "outputs": []
    },
    {
      "cell_type": "code",
      "source": [
        "#import file csv\n",
        "import pandas as pd\n",
        "df = pd.read_csv('namafilemu.csv')"
      ],
      "metadata": {
        "id": "V0zrXnIVSMnS"
      },
      "execution_count": null,
      "outputs": []
    },
    {
      "cell_type": "code",
      "source": [
        "#import file txt\n",
        "import pandas as pd\n",
        "df = pd.read_csv('namafilemu.txt')"
      ],
      "metadata": {
        "id": "fIXvVqpUSafy"
      },
      "execution_count": null,
      "outputs": []
    }
  ]
}